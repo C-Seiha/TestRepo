{
 "cells": [
  {
   "cell_type": "markdown",
   "id": "3088dfbe-1650-4811-b840-0a08e2a1c655",
   "metadata": {},
   "source": [
    "# Data Science Tools and Ecosystem"
   ]
  },
  {
   "cell_type": "markdown",
   "id": "4a35dbf5-ccd3-429c-95ff-d6feeca8596c",
   "metadata": {},
   "source": [
    "In this notebook, Data Science Tools and Ecosystem are summarized."
   ]
  },
  {
   "cell_type": "markdown",
   "id": "774a6a9b-1f9c-49ac-99dc-bfb9eaa67390",
   "metadata": {},
   "source": [
    "Some of the popular languages that Data Scientists use are:\n",
    "1. Python\n",
    "2. R\n",
    "3. Java"
   ]
  },
  {
   "attachments": {},
   "cell_type": "markdown",
   "id": "8387447d-e185-4a64-935b-c97f757c2b78",
   "metadata": {},
   "source": [
    "Some of the commonly used libraries used by Data Scientists include:\n",
    "- Numpy\n",
    "- Panda\n",
    "- Matplotlib"
   ]
  },
  {
   "cell_type": "markdown",
   "id": "893c0da1-23cf-4e67-8208-aba83a39a7b6",
   "metadata": {},
   "source": [
    "|Data Science Tools|\n",
    "|----------------|\n",
    "|Jupyter Notebook |\n",
    "|Apache Hadoop |\n",
    "|Apache Spark |"
   ]
  },
  {
   "cell_type": "markdown",
   "id": "05ebc286-18f5-4a45-a6fb-b7a16dde85c9",
   "metadata": {},
   "source": [
    "### Below are a few examples of evaluating arithmetic expressions in Python\n",
    "7 + 5"
   ]
  },
  {
   "cell_type": "code",
   "execution_count": 1,
   "id": "d256d83f-fe35-4279-a21b-6aabb874072a",
   "metadata": {},
   "outputs": [
    {
     "data": {
      "text/plain": [
       "17"
      ]
     },
     "execution_count": 1,
     "metadata": {},
     "output_type": "execute_result"
    }
   ],
   "source": [
    "(3 * 4) + 5\n",
    "# This is a simple arithmetic expression to multiply then add integers"
   ]
  },
  {
   "cell_type": "code",
   "execution_count": 3,
   "id": "fc33e816-c37a-49f2-a9bf-3b066927d170",
   "metadata": {},
   "outputs": [
    {
     "data": {
      "text/plain": [
       "3.3333333333333335"
      ]
     },
     "execution_count": 3,
     "metadata": {},
     "output_type": "execute_result"
    }
   ],
   "source": [
    "mins = 200\n",
    "hrs = mins / 60\n",
    "#This will convert 200 minutes to hours by dividing by 60\n",
    "hrs"
   ]
  },
  {
   "cell_type": "markdown",
   "id": "1d4e2bf7-e7bf-400c-94e2-821dd0f3db38",
   "metadata": {},
   "source": [
    "__Objectives:__\n",
    "- Commonly used libraries in data science\n",
    "- Popular languages in data science\n",
    "- Commonly known data science tools"
   ]
  },
  {
   "cell_type": "markdown",
   "id": "0b1856fb-e0f6-4edb-8fdb-2120d3e0804c",
   "metadata": {},
   "source": [
    "## Author\n",
    "Seiha"
   ]
  }
 ],
 "metadata": {
  "kernelspec": {
   "display_name": "Python 3 (ipykernel)",
   "language": "python",
   "name": "python3"
  },
  "language_info": {
   "codemirror_mode": {
    "name": "ipython",
    "version": 3
   },
   "file_extension": ".py",
   "mimetype": "text/x-python",
   "name": "python",
   "nbconvert_exporter": "python",
   "pygments_lexer": "ipython3",
   "version": "3.12.7"
  }
 },
 "nbformat": 4,
 "nbformat_minor": 5
}
